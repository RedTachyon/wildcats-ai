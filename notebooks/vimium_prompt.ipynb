{
 "cells": [
  {
   "cell_type": "code",
   "execution_count": 18,
   "id": "initial_id",
   "metadata": {
    "collapsed": true,
    "ExecuteTime": {
     "end_time": "2024-05-20T20:11:05.410166Z",
     "start_time": "2024-05-20T20:11:05.406015Z"
    }
   },
   "outputs": [],
   "source": [
    "from wildcats.vim_vision import get_actions\n",
    "from PIL import Image\n",
    "import time"
   ]
  },
  {
   "cell_type": "code",
   "outputs": [],
   "source": [
    "img = Image.open('images/steam_vim.png')"
   ],
   "metadata": {
    "collapsed": false,
    "ExecuteTime": {
     "end_time": "2024-05-20T20:09:44.098378Z",
     "start_time": "2024-05-20T20:09:44.095181Z"
    }
   },
   "id": "2024d0d76a8959ac",
   "execution_count": 4
  },
  {
   "cell_type": "code",
   "outputs": [],
   "source": [
    "import pyautogui"
   ],
   "metadata": {
    "collapsed": false,
    "ExecuteTime": {
     "end_time": "2024-05-20T20:09:47.855708Z",
     "start_time": "2024-05-20T20:09:47.412321Z"
    }
   },
   "id": "359cedc54e0d7cd7",
   "execution_count": 5
  },
  {
   "cell_type": "code",
   "outputs": [],
   "source": [
    "pyautogui.moveTo(1817, 181, duration=1)\n"
   ],
   "metadata": {
    "collapsed": false,
    "ExecuteTime": {
     "end_time": "2024-05-20T20:21:09.461742Z",
     "start_time": "2024-05-20T20:21:08.044705Z"
    }
   },
   "id": "38095f716d86d1fb",
   "execution_count": 21
  },
  {
   "cell_type": "code",
   "outputs": [],
   "source": [
    "time.sleep(2)\n",
    "pyautogui.vscroll(-10)\n"
   ],
   "metadata": {
    "collapsed": false,
    "ExecuteTime": {
     "end_time": "2024-05-20T20:11:23.516213Z",
     "start_time": "2024-05-20T20:11:21.394915Z"
    }
   },
   "id": "5fd141baae989814",
   "execution_count": 20
  },
  {
   "cell_type": "code",
   "outputs": [],
   "source": [
    "pyautogui.click()"
   ],
   "metadata": {
    "collapsed": false,
    "ExecuteTime": {
     "end_time": "2024-05-20T20:10:54.535036Z",
     "start_time": "2024-05-20T20:10:54.418181Z"
    }
   },
   "id": "d577e8e0a155e539",
   "execution_count": 17
  },
  {
   "cell_type": "code",
   "outputs": [],
   "source": [
    "time.sleep(2)\n",
    "\n",
    "pyautogui.press('shift')\n",
    "pyautogui.press('f')\n",
    "pyautogui.press('a')\n",
    "pyautogui.press('s')"
   ],
   "metadata": {
    "collapsed": false,
    "ExecuteTime": {
     "end_time": "2024-05-20T21:55:34.690568Z",
     "start_time": "2024-05-20T21:55:32.188967Z"
    }
   },
   "id": "b06f87ab143fc06",
   "execution_count": 23
  },
  {
   "cell_type": "code",
   "outputs": [],
   "source": [
    "exec(\"\"\"pyautogui.press('shift')\n",
    "pyautogui.press('f')\n",
    "pyautogui.press('a')\n",
    "pyautogui.press('s')\"\"\")"
   ],
   "metadata": {
    "collapsed": false,
    "ExecuteTime": {
     "end_time": "2024-05-20T21:56:01.314982Z",
     "start_time": "2024-05-20T21:56:00.821354Z"
    }
   },
   "id": "72db14c655211c5e",
   "execution_count": 28
  }
 ],
 "metadata": {
  "kernelspec": {
   "display_name": "Python 3",
   "language": "python",
   "name": "python3"
  },
  "language_info": {
   "codemirror_mode": {
    "name": "ipython",
    "version": 2
   },
   "file_extension": ".py",
   "mimetype": "text/x-python",
   "name": "python",
   "nbconvert_exporter": "python",
   "pygments_lexer": "ipython2",
   "version": "2.7.6"
  }
 },
 "nbformat": 4,
 "nbformat_minor": 5
}
