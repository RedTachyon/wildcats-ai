{
 "cells": [
  {
   "cell_type": "code",
   "execution_count": 23,
   "id": "f4676bef3dbc4635",
   "metadata": {
    "collapsed": false,
    "ExecuteTime": {
     "end_time": "2024-05-27T15:11:06.990506Z",
     "start_time": "2024-05-27T15:11:06.983019Z"
    }
   },
   "outputs": [],
   "source": [
    "import time\n",
    "from io import BytesIO\n",
    "\n",
    "from openai import OpenAI\n",
    "from dotenv import load_dotenv\n",
    "from openai.types.chat import ChatCompletion\n",
    "\n",
    "from wildcats.prompts import SYSTEM_PROMPT, FIRST_PROMPT, FOLLOWUP_PROMPT\n",
    "\n",
    "import base64\n",
    "from PIL import Image"
   ]
  },
  {
   "cell_type": "code",
   "outputs": [
    {
     "data": {
      "text/plain": "True"
     },
     "execution_count": 2,
     "metadata": {},
     "output_type": "execute_result"
    }
   ],
   "source": [
    "\n",
    "load_dotenv()"
   ],
   "metadata": {
    "collapsed": true,
    "ExecuteTime": {
     "end_time": "2024-05-27T14:16:59.706109Z",
     "start_time": "2024-05-27T14:16:59.701989Z"
    }
   },
   "id": "initial_id",
   "execution_count": 2
  },
  {
   "cell_type": "code",
   "outputs": [],
   "source": [
    "client = OpenAI()"
   ],
   "metadata": {
    "collapsed": false,
    "ExecuteTime": {
     "end_time": "2024-05-27T14:17:00.728960Z",
     "start_time": "2024-05-27T14:17:00.704700Z"
    }
   },
   "id": "a76f15577fe04740",
   "execution_count": 3
  },
  {
   "cell_type": "code",
   "outputs": [],
   "source": [
    "def downsample_image(image: Image.Image, scale: int) -> Image.Image:\n",
    "    return image.resize((image.width // scale, image.height // scale))\n",
    "\n",
    "def encode_pil(image: Image.Image, downsample: int = 1) -> str:\n",
    "    if downsample > 1:\n",
    "        image = downsample_image(image, downsample)\n",
    "    \n",
    "    buffered = BytesIO()\n",
    "    image.save(buffered, format=\"PNG\")\n",
    "    return base64.b64encode(buffered.getvalue()).decode(\"utf-8\")"
   ],
   "metadata": {
    "collapsed": false,
    "ExecuteTime": {
     "end_time": "2024-05-27T14:17:26.581950Z",
     "start_time": "2024-05-27T14:17:26.577540Z"
    }
   },
   "id": "ce4a469203f8c3a9",
   "execution_count": 4
  },
  {
   "cell_type": "code",
   "outputs": [],
   "source": [
    "def get_initial_messages(task: str, image: Image.Image, downsample: int = 2):\n",
    "    img_str = encode_pil(image, downsample)\n",
    "    \n",
    "    return [\n",
    "        {\n",
    "            \"role\": \"system\",\n",
    "            \"content\": [\n",
    "                {\n",
    "                    \"type\": \"text\",\n",
    "                    \"text\": SYSTEM_PROMPT\n",
    "                }\n",
    "            ]\n",
    "        },\n",
    "        {\n",
    "            \"role\": \"user\",\n",
    "            \"content\": [\n",
    "                {\n",
    "                    \"type\": \"image_url\",\n",
    "                    \"image_url\": {\n",
    "                        \"url\": \"data:image/png;base64,\" + img_str\n",
    "                    }\n",
    "                },\n",
    "                {\n",
    "                    \"type\": \"text\",\n",
    "                    \"text\": FIRST_PROMPT % task\n",
    "                }\n",
    "            ]\n",
    "        }\n",
    "    ]"
   ],
   "metadata": {
    "collapsed": false,
    "ExecuteTime": {
     "end_time": "2024-05-27T14:17:29.059066Z",
     "start_time": "2024-05-27T14:17:29.055733Z"
    }
   },
   "id": "1d8289e6e4188777",
   "execution_count": 5
  },
  {
   "cell_type": "code",
   "outputs": [],
   "source": [
    "img = Image.open(\"images/steam_vim.png\")"
   ],
   "metadata": {
    "collapsed": false,
    "ExecuteTime": {
     "end_time": "2024-05-27T14:17:29.576863Z",
     "start_time": "2024-05-27T14:17:29.561270Z"
    }
   },
   "id": "1f09ef649f829bd9",
   "execution_count": 6
  },
  {
   "cell_type": "code",
   "outputs": [],
   "source": [
    "messages = get_initial_messages(\"add this game to my wishlist\", img)\n",
    "response = client.chat.completions.create(\n",
    "  model=\"gpt-4o\",\n",
    "  messages=messages\n",
    ")"
   ],
   "metadata": {
    "collapsed": false,
    "ExecuteTime": {
     "end_time": "2024-05-27T14:17:42.220711Z",
     "start_time": "2024-05-27T14:17:34.031861Z"
    }
   },
   "id": "5db46e068402509e",
   "execution_count": 7
  },
  {
   "cell_type": "code",
   "outputs": [],
   "source": [
    "def extract_code_block(res: ChatCompletion) -> str:\n",
    "    message = res.choices[0].message.content\n",
    "    code = message.split(\"```\")[1]\n",
    "    lines = code.split(\"\\n\")\n",
    "    lines = [line for line in lines if line.strip() not in (\"python\", \"import pyautogui\", \"\")]\n",
    "    return \"\\n\".join(lines)"
   ],
   "metadata": {
    "collapsed": false,
    "ExecuteTime": {
     "end_time": "2024-05-27T15:11:12.739106Z",
     "start_time": "2024-05-27T15:11:12.736467Z"
    }
   },
   "id": "fdcd52609d44862",
   "execution_count": 24
  },
  {
   "cell_type": "code",
   "outputs": [],
   "source": [
    "code = extract_code_block(response)"
   ],
   "metadata": {
    "collapsed": false,
    "ExecuteTime": {
     "end_time": "2024-05-27T15:11:29.853107Z",
     "start_time": "2024-05-27T15:11:29.846840Z"
    }
   },
   "id": "1e6abdc6233c9822",
   "execution_count": 27
  },
  {
   "cell_type": "code",
   "outputs": [],
   "source": [
    "import pyautogui"
   ],
   "metadata": {
    "collapsed": false,
    "ExecuteTime": {
     "end_time": "2024-05-27T15:11:39.594053Z",
     "start_time": "2024-05-27T15:11:39.250260Z"
    }
   },
   "id": "2d2f6725cf3def45",
   "execution_count": 29
  },
  {
   "cell_type": "code",
   "outputs": [],
   "source": [
    "time.sleep(2)\n",
    "exec(code)"
   ],
   "metadata": {
    "collapsed": false,
    "ExecuteTime": {
     "end_time": "2024-05-27T15:12:06.200573Z",
     "start_time": "2024-05-27T15:12:03.693385Z"
    }
   },
   "id": "ba3b2d8b9d93b413",
   "execution_count": 31
  },
  {
   "cell_type": "code",
   "outputs": [
    {
     "data": {
      "text/plain": "'To add the game \"Kingdom Come: Deliverance II\" to your wishlist, I will click the \"AS\" button that corresponds to the action of adding the game to the wishlist.\\n\\nHere is the code to do it:\\n\\n```python\\nimport pyautogui\\n\\n# Press \\'shift\\' + \\'f\\' to open the link in the wishlist\\npyautogui.press(\\'shift\\')\\npyautogui.press(\\'f\\')\\npyautogui.press(\\'a\\')\\npyautogui.press(\\'s\\')\\n```'"
     },
     "execution_count": 10,
     "metadata": {},
     "output_type": "execute_result"
    }
   ],
   "source": [
    "response.choices[0].message.content"
   ],
   "metadata": {
    "collapsed": false,
    "ExecuteTime": {
     "end_time": "2024-05-27T14:34:20.085896Z",
     "start_time": "2024-05-27T14:34:20.083858Z"
    }
   },
   "id": "d6995173218463af",
   "execution_count": 10
  },
  {
   "cell_type": "markdown",
   "source": [
    "Program flow:\n",
    "\n",
    "1. Send the task from the extension to the python websocket\n",
    "2. Start the loop\n",
    "3. Press esc to hide the extension\n",
    "4. Press f to show labels\n",
    "5. Take a screenshot\n",
    "6. Press esc to hide the labels\n",
    "7. Send screenshot and task to OpenAI (first prompt)\n",
    "8. Get response\n",
    "9. Exec code\n",
    "10. Press esc\n",
    "11. Press f to show labels\n",
    "12. Take a screenshot\n",
    "13. Press esc to hide the labels\n",
    "14. Goto 7 (followup prompt)"
   ],
   "metadata": {
    "collapsed": false
   },
   "id": "2584d9e85c2a9068"
  },
  {
   "cell_type": "code",
   "outputs": [],
   "source": [
    "def process_response(res: str):\n",
    "    "
   ],
   "metadata": {
    "collapsed": false
   },
   "id": "a43a10d7272ffc71"
  },
  {
   "cell_type": "code",
   "outputs": [],
   "source": [
    "def print(*args, **kwargs):\n",
    "    ding.play()\n",
    "    return __builtins__.print(*args, **kwargs)"
   ],
   "metadata": {
    "collapsed": false,
    "ExecuteTime": {
     "end_time": "2024-05-22T14:13:49.883774Z",
     "start_time": "2024-05-22T14:13:49.881613Z"
    }
   },
   "id": "765d3282768da387",
   "execution_count": 37
  },
  {
   "cell_type": "code",
   "outputs": [
    {
     "name": "stdout",
     "output_type": "stream",
     "text": [
      "hi\n"
     ]
    }
   ],
   "source": [
    "print(\"hi\")"
   ],
   "metadata": {
    "collapsed": false,
    "ExecuteTime": {
     "end_time": "2024-05-22T14:47:10.190750Z",
     "start_time": "2024-05-22T14:47:10.186172Z"
    }
   },
   "id": "6f2e0c98264e5686",
   "execution_count": 58
  },
  {
   "cell_type": "code",
   "outputs": [],
   "source": [
    "import simpleaudio as sa\n",
    "\n",
    "# play sounds/ding.wav\n",
    "ding = sa.WaveObject.from_wave_file(\"sounds/ding.wav\")"
   ],
   "metadata": {
    "collapsed": false,
    "ExecuteTime": {
     "end_time": "2024-05-22T13:31:23.401759Z",
     "start_time": "2024-05-22T13:31:23.381287Z"
    }
   },
   "id": "569efb58b25717d1",
   "execution_count": 18
  },
  {
   "cell_type": "code",
   "outputs": [],
   "source": [
    "import time\n",
    "for i in range(10):\n",
    "    ding.play()\n",
    "    time.sleep(0.1 * i)"
   ],
   "metadata": {
    "collapsed": false,
    "ExecuteTime": {
     "end_time": "2024-05-22T13:32:46.477942Z",
     "start_time": "2024-05-22T13:32:41.835044Z"
    }
   },
   "id": "cf87790b835fdd44",
   "execution_count": 36
  },
  {
   "cell_type": "code",
   "outputs": [],
   "source": [
    "\n",
    "play_obj = wave_obj.play()"
   ],
   "metadata": {
    "collapsed": false,
    "ExecuteTime": {
     "end_time": "2024-05-22T13:28:48.692037Z",
     "start_time": "2024-05-22T13:28:48.679442Z"
    }
   },
   "id": "5b5b7662b29acf9",
   "execution_count": 16
  },
  {
   "cell_type": "code",
   "outputs": [
    {
     "data": {
      "text/plain": "<simpleaudio.shiny.PlayObject at 0x107709c90>"
     },
     "execution_count": 17,
     "metadata": {},
     "output_type": "execute_result"
    }
   ],
   "source": [
    "play_obj"
   ],
   "metadata": {
    "collapsed": false,
    "ExecuteTime": {
     "end_time": "2024-05-22T13:31:17.173876Z",
     "start_time": "2024-05-22T13:31:17.170145Z"
    }
   },
   "id": "84e2b676863f454f",
   "execution_count": 17
  },
  {
   "cell_type": "code",
   "outputs": [
    {
     "name": "stdout",
     "output_type": "stream",
     "text": [
      "To add the game to your wishlist, here are the steps I will take based on the provided screenshot:\n",
      "\n",
      "1. Click the button labeled 'AS' as it's the option to add the item to your wishlist.\n",
      "\n",
      "Here is the code to perform this action:\n",
      "```python\n",
      "import pyautogui\n",
      "\n",
      "# Click the 'AS' button to add the item to the wishlist.\n",
      "pyautogui.press('shift')\n",
      "pyautogui.press('f')\n",
      "pyautogui.press('a')\n",
      "pyautogui.press('s')\n",
      "```\n"
     ]
    }
   ],
   "source": [
    "print(response.choices[0].message.content)"
   ],
   "metadata": {
    "collapsed": false,
    "ExecuteTime": {
     "end_time": "2024-05-21T23:13:52.664054Z",
     "start_time": "2024-05-21T23:13:52.660733Z"
    }
   },
   "id": "8e8450d7cbd9d2a6",
   "execution_count": 10
  }
 ],
 "metadata": {
  "kernelspec": {
   "display_name": "Python 3",
   "language": "python",
   "name": "python3"
  },
  "language_info": {
   "codemirror_mode": {
    "name": "ipython",
    "version": 2
   },
   "file_extension": ".py",
   "mimetype": "text/x-python",
   "name": "python",
   "nbconvert_exporter": "python",
   "pygments_lexer": "ipython2",
   "version": "2.7.6"
  }
 },
 "nbformat": 4,
 "nbformat_minor": 5
}
